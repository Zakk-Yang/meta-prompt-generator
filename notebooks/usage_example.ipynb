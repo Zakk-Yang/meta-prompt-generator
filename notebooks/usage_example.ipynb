{
 "cells": [
  {
   "cell_type": "markdown",
   "metadata": {},
   "source": [
    "## Test"
   ]
  },
  {
   "cell_type": "markdown",
   "metadata": {},
   "source": [
    "### Check the current template"
   ]
  },
  {
   "cell_type": "code",
   "execution_count": 3,
   "metadata": {},
   "outputs": [
    {
     "name": "stdout",
     "output_type": "stream",
     "text": [
      "Given a task description or existing prompt, produce a detailed system prompt to guide a language model in completing the task effectively.\n",
      "\n",
      "# Guidelines\n",
      "\n",
      "- Understand the Task: Grasp the main objective, goals, requirements, constraints, and expected output.\n",
      "- Minimal Changes: If an existing prompt is provided, improve it only if it's simple. For complex prompts, enhance clarity and add missing elements without altering the original structure.\n",
      "- Reasoning Before Conclusions: Encourage reasoning steps before any conclusions are reached. ATTENTION! If the user provides examples where the reasoning happens afterward, REVERSE the order! NEVER START EXAMPLES WITH CONCLUSIONS!\n",
      "    - Reasoning Order: Call out reasoning portions of the prompt and conclusion parts (specific fields by name). For each, determine the ORDER in which this is done, and whether it needs to be reversed.\n",
      "    - Conclusion, classifications, or results should ALWAYS appear last.\n",
      "- Examples: Include high-quality examples if helpful, using placeholders [in brackets] for complex elements.\n",
      "   - What kinds of examples may need to be included, how many, and whether they are complex enough to benefit from placeholders.\n",
      "- Clarity and Conciseness: Use clear, specific language. Avoid unnecessary instructions or bland statements.\n",
      "- Formatting: Use markdown features for readability. DO NOT USE ``` CODE BLOCKS UNLESS SPECIFICALLY REQUESTED.\n",
      "- Preserve User Content: If the input task or prompt includes extensive guidelines or examples, preserve them entirely, or as closely as possible. If they are vague, consider breaking down into sub-steps. Keep any details, guidelines, examples, variables, or placeholders provided by the user.\n",
      "- Constants: DO include constants in the prompt, as they are not susceptible to prompt injection. Such as guides, rubrics, and examples.\n",
      "- Output Format: Explicitly the most appropriate output format, in detail. This should include length and syntax (e.g. short sentence, paragraph, JSON, etc.)\n",
      "    - For tasks outputting well-defined or structured data (classification, JSON, etc.) bias toward outputting a JSON.\n",
      "    - JSON should never be wrapped in code blocks (```) unless explicitly requested.\n",
      "\n",
      "The final prompt you output should adhere to the following structure below. Do not include any additional commentary, only output the completed system prompt. SPECIFICALLY, do not include any additional messages at the start or end of the prompt. (e.g. no \"---\")\n",
      "\n",
      "[Concise instruction describing the task - this should be the first line in the prompt, no section header]\n",
      "\n",
      "[Additional details as needed.]\n",
      "\n",
      "[Optional sections with headings or bullet points for detailed steps.]\n",
      "\n",
      "# Steps [optional]\n",
      "\n",
      "[optional: a detailed breakdown of the steps necessary to accomplish the task]\n",
      "\n",
      "# Output Format\n",
      "\n",
      "[Specifically call out how the output should be formatted, be it response length, structure e.g. JSON, markdown, etc]\n",
      "\n",
      "# Examples [optional]\n",
      "\n",
      "[Optional: 1-3 well-defined examples with placeholders if necessary. Clearly mark where examples start and end, and what the input and output are. User placeholders as necessary.]\n",
      "[If the examples are shorter than what a realistic example is expected to be, make a reference with () explaining how real examples should be longer / shorter / different. AND USE PLACEHOLDERS! ]\n",
      "\n",
      "# Notes [optional]\n",
      "\n",
      "[optional: edge cases, details, and an area to call or repeat out specific important considerations]\n"
     ]
    }
   ],
   "source": [
    "from  meta_prompt_generator.prompts import META_PROMPT\n",
    "print(META_PROMPT)"
   ]
  },
  {
   "cell_type": "markdown",
   "metadata": {},
   "source": [
    "### Usage"
   ]
  },
  {
   "cell_type": "code",
   "execution_count": 1,
   "metadata": {},
   "outputs": [],
   "source": [
    "from meta_prompt_generator.generator import generate_prompt"
   ]
  },
  {
   "cell_type": "code",
   "execution_count": null,
   "metadata": {},
   "outputs": [],
   "source": [
    "# You can provide api code directly as one of the parameters below\n",
    "# generate_prompt(task_or_prompt = 'generator a short story', api_key = 'sk-xxxxx')"
   ]
  },
  {
   "cell_type": "code",
   "execution_count": 2,
   "metadata": {},
   "outputs": [
    {
     "name": "stderr",
     "output_type": "stream",
     "text": [
      "INFO:meta_prompt_generator.generator:Generating prompt for task: generator a short story\n",
      "INFO:httpx:HTTP Request: POST https://api.openai.com/v1/chat/completions \"HTTP/1.1 200 OK\"\n",
      "INFO:meta_prompt_generator.generator:Prompt generated successfully\n"
     ]
    },
    {
     "name": "stdout",
     "output_type": "stream",
     "text": [
      "```markdown\n",
      "Generate a short story based on a specified theme or prompt.\n",
      "\n",
      "- Please provide a theme or prompt for the short story. \n",
      "- The story should include characters, a setting, and a clear conflict or plot.\n",
      "- Aim for creativity and originality, making sure the story flows coherently from beginning to end.\n",
      "\n",
      "# Steps\n",
      "\n",
      "1. Choose a theme or prompt provided by the user.\n",
      "2. Develop characters with distinct traits and motivations.\n",
      "3. Establish a setting that complements the story.\n",
      "4. Construct a conflict or central plot that drives the story forward.\n",
      "5. Write the story with a clear beginning, middle, and end.\n",
      "\n",
      "# Output Format\n",
      "\n",
      "The output should be a coherent short story of approximately 300-800 words, written in prose format.\n",
      "\n",
      "# Examples\n",
      "\n",
      "**Example 1:**\n",
      "\n",
      "- **Input Theme/Prompt:** \"A journey through a forgotten forest.\"\n",
      "- **Output:** A short story about a character named [Character Name] who embarks on an adventure in a mysterious forest where they discover [specific elements] that lead to [conflict or resolution].\n",
      "\n",
      "**Example 2:**\n",
      "\n",
      "- **Input Theme/Prompt:** \"An unexpected encounter at a train station.\"\n",
      "- **Output:** A narrative focusing on [Character Name] who meets [another character] and together they experience [specific events] resulting in [a significant outcome].\n",
      "\n",
      "(These examples should be longer and more detailed for realistic storytelling.)\n",
      "```\n"
     ]
    }
   ],
   "source": [
    "# or you can simply put the OPENAI_API_KEY in the .env or export OPENAI_API_KEY=\"your-api-key-here\" in your terminal\n",
    "# if you install from pypi, then put the .env in your project root\n",
    "# if you git clone or copy the package, put the .env in the src folder \n",
    "print(generate_prompt(task_or_prompt = 'generator a short story'))"
   ]
  },
  {
   "cell_type": "markdown",
   "metadata": {},
   "source": [
    "## json format output"
   ]
  },
  {
   "cell_type": "code",
   "execution_count": 1,
   "metadata": {},
   "outputs": [
    {
     "name": "stderr",
     "output_type": "stream",
     "text": [
      "INFO:meta_prompt_generator.generator:Generating schema for task/prompt: generate KPIs for a data team\n",
      "INFO:httpx:HTTP Request: POST https://api.openai.com/v1/chat/completions \"HTTP/1.1 200 OK\"\n",
      "INFO:meta_prompt_generator.generator:Schema generated successfully\n"
     ]
    },
    {
     "name": "stdout",
     "output_type": "stream",
     "text": [
      "{'name': 'kpis_data_team', 'type': 'object', 'properties': {'kpi_list': {'type': 'array', 'description': 'A list of KPIs defined for the data team.', 'items': {'type': 'object', 'properties': {'name': {'type': 'string', 'description': 'The name of the KPI.'}, 'description': {'type': 'string', 'description': 'A brief description of what the KPI measures.'}, 'target': {'type': 'string', 'description': 'The target value or goal for the KPI.'}, 'frequency': {'type': 'string', 'description': 'The frequency of measuring this KPI (e.g., weekly, monthly).'}, 'owner': {'type': 'string', 'description': 'The individual or role responsible for this KPI.'}}, 'required': ['name', 'description', 'target', 'frequency', 'owner'], 'additionalProperties': False}}}, 'required': ['kpi_list'], 'additionalProperties': False}\n"
     ]
    }
   ],
   "source": [
    "from meta_prompt_generator.generator import generate_meta_schema\n",
    "print(generate_meta_schema('generate KPIs for a data team'))"
   ]
  }
 ],
 "metadata": {
  "kernelspec": {
   "display_name": "metaprompt",
   "language": "python",
   "name": "python3"
  },
  "language_info": {
   "codemirror_mode": {
    "name": "ipython",
    "version": 3
   },
   "file_extension": ".py",
   "mimetype": "text/x-python",
   "name": "python",
   "nbconvert_exporter": "python",
   "pygments_lexer": "ipython3",
   "version": "3.10.15"
  }
 },
 "nbformat": 4,
 "nbformat_minor": 2
}
