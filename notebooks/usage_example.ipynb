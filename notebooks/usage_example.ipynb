{
 "cells": [
  {
   "cell_type": "markdown",
   "metadata": {},
   "source": [
    "## Test"
   ]
  },
  {
   "cell_type": "code",
   "execution_count": 3,
   "metadata": {},
   "outputs": [],
   "source": [
    "from meta_prompt_generator.generator import generate_prompt"
   ]
  },
  {
   "cell_type": "code",
   "execution_count": null,
   "metadata": {},
   "outputs": [],
   "source": [
    "# You can provide api code directly as one of the parameters below\n",
    "# generate_prompt(task_or_prompt = 'generator a short story', api_key = 'sk-xxxxx')"
   ]
  },
  {
   "cell_type": "code",
   "execution_count": 8,
   "metadata": {},
   "outputs": [
    {
     "name": "stderr",
     "output_type": "stream",
     "text": [
      "INFO:meta_prompt_generator.generator:Generating prompt for task: generator a short story\n"
     ]
    },
    {
     "name": "stderr",
     "output_type": "stream",
     "text": [
      "INFO:httpx:HTTP Request: POST https://api.openai.com/v1/chat/completions \"HTTP/1.1 200 OK\"\n",
      "INFO:meta_prompt_generator.generator:Prompt generated successfully\n"
     ]
    },
    {
     "name": "stdout",
     "output_type": "stream",
     "text": [
      "```markdown\n",
      "Generate a short story with a clear beginning, middle, and end, focusing on a central theme or moral lesson.\n",
      "\n",
      "- Aim for a narrative that includes well-developed characters and a compelling plot.\n",
      "- The story should evoke emotions and engage the reader's imagination.\n",
      "\n",
      "# Steps\n",
      "\n",
      "1. Choose a theme or moral lesson.\n",
      "2. Develop main characters with distinct traits and motivations.\n",
      "3. Create a compelling setting that enhances the story.\n",
      "4. Outline the plot structure: introduction, conflict, climax, and resolution.\n",
      "5. Write the story, ensuring it flows logically and maintains reader interest.\n",
      "\n",
      "# Output Format\n",
      "\n",
      "The final story should be approximately 500-1000 words and written in prose format. Ensure proper grammar and punctuation are used, with a clear narrative style.\n",
      "\n",
      "# Examples\n",
      "\n",
      "**Example 1:**\n",
      "- **Input:** A theme of friendship and overcoming differences.\n",
      "- **Output:** A short story where two unlikely friends from different worlds embark on an adventure that teaches them the value of acceptance and understanding.\n",
      "\n",
      "**Example 2:**\n",
      "- **Input:** A theme of courage in the face of adversity.\n",
      "- **Output:** A short story about a young girl who stands up to bullies at her school, ultimately inspiring her peers to unite against unfairness.\n",
      "\n",
      "**Example 3:**\n",
      "- **Input:** A theme of nostalgia and memories.\n",
      "- **Output:** A short story reflecting on an elderly person's journey through a box of old letters, uncovering cherished moments from their youth that shaped their life.\n",
      "\n",
      "# Notes\n",
      "\n",
      "- Focus on creating vivid imagery and engaging dialogue to enhance the storytelling experience.\n",
      "- Consider the emotional arc of the characters and how it ties into the theme or moral lesson.\n",
      "```\n"
     ]
    }
   ],
   "source": [
    "# or you can simply put the OPENAI_API_KEY in the .env\n",
    "# if you install from pypi, then put the .env in your project root\n",
    "# if you git clone or copy the package, put the .env in the src folder \n",
    "print(generate_prompt(task_or_prompt = 'generator a short story'))"
   ]
  }
 ],
 "metadata": {
  "kernelspec": {
   "display_name": "metaprompt",
   "language": "python",
   "name": "python3"
  },
  "language_info": {
   "codemirror_mode": {
    "name": "ipython",
    "version": 3
   },
   "file_extension": ".py",
   "mimetype": "text/x-python",
   "name": "python",
   "nbconvert_exporter": "python",
   "pygments_lexer": "ipython3",
   "version": "3.10.15"
  }
 },
 "nbformat": 4,
 "nbformat_minor": 2
}
